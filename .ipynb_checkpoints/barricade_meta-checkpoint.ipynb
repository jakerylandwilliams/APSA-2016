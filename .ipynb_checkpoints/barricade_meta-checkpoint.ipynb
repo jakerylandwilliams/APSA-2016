{
 "cells": [
  {
   "cell_type": "code",
   "execution_count": 1,
   "metadata": {
    "collapsed": false
   },
   "outputs": [
    {
     "name": "stdout",
     "output_type": "stream",
     "text": [
      "category:  I\n",
      "city:  Hong Kong\n",
      "date created:  20141118\n",
      "original transmission reference:  XVY119\n",
      "copyright notice:  AP2014\n",
      "by-line:  Vincent Yu\n",
      "supplemental category:  []\n",
      "time created:  120053+0000\n",
      "credit:  ASSOCIATED PRESS\n",
      "contact:  []\n",
      "by-line title:  STF\n",
      "writer/editor:  VY KAJ**TOK**\n",
      "keywords:  []\n",
      "object name:  Hong Kong Democracy Protest\n",
      "urgency:  5\n",
      "caption/abstract:  Workers start clearing away barricades at an occupied area outside the government headquarters in Hong Kong Tuesday, Nov. 18, 2014. The removal comes after a Hong Kong court granted a restraining order against the protesters last week requiring them to clear the area in front of a tower in the central part of Hong Kong as well a separate order against a second protest site Mong Kok brought by taxi and minibus operators. (AP Photo/Vincent Yu)\n"
     ]
    }
   ],
   "source": [
    "from iptcinfo import c_datasets, c_datasets_r, IPTCInfo\n",
    "\n",
    "iptc = dict(IPTCInfo(\"./images/barricade.jpg\").data)\n",
    "\n",
    "data = {}\n",
    "for numkey in iptc:\n",
    "    data[c_datasets[numkey]] = iptc[numkey]\n",
    "    \n",
    "for key in data:\n",
    "    print key+\": \", data[key]"
   ]
  },
  {
   "cell_type": "code",
   "execution_count": null,
   "metadata": {
    "collapsed": true
   },
   "outputs": [],
   "source": []
  }
 ],
 "metadata": {
  "kernelspec": {
   "display_name": "Python 2",
   "language": "python",
   "name": "python2"
  },
  "language_info": {
   "codemirror_mode": {
    "name": "ipython",
    "version": 2
   },
   "file_extension": ".py",
   "mimetype": "text/x-python",
   "name": "python",
   "nbconvert_exporter": "python",
   "pygments_lexer": "ipython2",
   "version": "2.7.11"
  }
 },
 "nbformat": 4,
 "nbformat_minor": 0
}
